{
 "cells": [
  {
   "cell_type": "markdown",
   "metadata": {},
   "source": [
    "# IvisPro StellarMap Data Wrangling"
   ]
  },
  {
   "cell_type": "code",
   "execution_count": 47,
   "metadata": {},
   "outputs": [],
   "source": [
    "import pandas as pd\n",
    "import csv"
   ]
  },
  {
   "cell_type": "code",
   "execution_count": 48,
   "metadata": {},
   "outputs": [],
   "source": [
    "hyg_df = pd.read_csv(\"../data/hygdata_v3.csv\")"
   ]
  },
  {
   "cell_type": "code",
   "execution_count": 49,
   "metadata": {},
   "outputs": [],
   "source": [
    "hyg_df.drop(hyg_df.columns.difference(\n",
    "    ['id', 'hr', 'gl', 'bf', 'proper', 'dist', 'mag', 'absmag', 'spect', 'ci', 'x', 'y', 'z', 'con', 'lum']), 1, inplace = True)"
   ]
  },
  {
   "cell_type": "code",
   "execution_count": 50,
   "metadata": {},
   "outputs": [],
   "source": [
    "dict = {\n",
    "    'id':   'index',\n",
    "    'hr':   'idHarvard',\n",
    "    'gl':     'idGliese',\n",
    "    'bf':       'idYaleBright',\n",
    "    'proper': 'name',\n",
    "    'dist': 'distance',\n",
    "    'mag': 'magnitude',\n",
    "    'absmag':  'absoluteMagnitude',\n",
    "    'spect': 'spectralType',\n",
    "    'ci': 'colorIndex',\n",
    "    'x':   'xCoord',\n",
    "    'y':   'yCoord',\n",
    "    'z':   'zCoord',\n",
    "    'con': 'constellation',\n",
    "    'lum': 'luminosity'\n",
    "}\n",
    "\n",
    "hyg_df.columns = hyg_df.columns.to_series().map(dict)"
   ]
  },
  {
   "cell_type": "code",
   "execution_count": 51,
   "metadata": {},
   "outputs": [
    {
     "ename": "NameError",
     "evalue": "name 'NaN' is not defined",
     "output_type": "error",
     "traceback": [
      "\u001b[1;31m---------------------------------------------------------------------------\u001b[0m",
      "\u001b[1;31mNameError\u001b[0m                                 Traceback (most recent call last)",
      "\u001b[1;32m<ipython-input-51-888ca9a6781f>\u001b[0m in \u001b[0;36m<module>\u001b[1;34m\u001b[0m\n\u001b[1;32m----> 1\u001b[1;33m \u001b[0mhyg_df\u001b[0m \u001b[1;33m=\u001b[0m \u001b[0mhyg_df\u001b[0m\u001b[1;33m[\u001b[0m\u001b[0mhyg_df\u001b[0m\u001b[1;33m.\u001b[0m\u001b[0mspectralType\u001b[0m \u001b[1;33m!=\u001b[0m \u001b[0mNaN\u001b[0m\u001b[1;33m]\u001b[0m\u001b[1;33m\u001b[0m\u001b[1;33m\u001b[0m\u001b[0m\n\u001b[0m",
      "\u001b[1;31mNameError\u001b[0m: name 'NaN' is not defined"
     ]
    }
   ],
   "source": [
    "hyg_df = hyg_df[hyg_df.spectralType != NaN]"
   ]
  },
  {
   "cell_type": "code",
   "execution_count": 39,
   "metadata": {},
   "outputs": [],
   "source": [
    "hyg_df.to_csv(\"../data/hygdata_prepared.csv\")"
   ]
  },
  {
   "cell_type": "code",
   "execution_count": null,
   "metadata": {},
   "outputs": [],
   "source": []
  }
 ],
 "metadata": {
  "kernelspec": {
   "display_name": "Python 3",
   "language": "python",
   "name": "python3"
  },
  "language_info": {
   "codemirror_mode": {
    "name": "ipython",
    "version": 3
   },
   "file_extension": ".py",
   "mimetype": "text/x-python",
   "name": "python",
   "nbconvert_exporter": "python",
   "pygments_lexer": "ipython3",
   "version": "3.7.3"
  }
 },
 "nbformat": 4,
 "nbformat_minor": 4
}
