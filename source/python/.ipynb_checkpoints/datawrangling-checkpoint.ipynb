{
 "cells": [
  {
   "cell_type": "markdown",
   "metadata": {},
   "source": [
    "# IvisPro StellarMap Data Wrangling"
   ]
  },
  {
   "cell_type": "code",
   "execution_count": 1,
   "metadata": {},
   "outputs": [],
   "source": [
    "import pandas as pd\n",
    "import csv\n",
    "import numpy as np"
   ]
  },
  {
   "cell_type": "markdown",
   "metadata": {},
   "source": [
    "### Read csv"
   ]
  },
  {
   "cell_type": "code",
   "execution_count": 2,
   "metadata": {},
   "outputs": [],
   "source": [
    "hyg_df = pd.read_csv(\"../data/hygdata_v3.csv\")"
   ]
  },
  {
   "cell_type": "markdown",
   "metadata": {},
   "source": [
    "### Reduce and translate columns"
   ]
  },
  {
   "cell_type": "code",
   "execution_count": 3,
   "metadata": {},
   "outputs": [],
   "source": [
    "hyg_df.drop(hyg_df.columns.difference(\n",
    "    ['id', 'hr', 'gl', 'bf', 'proper', 'dist', 'mag', 'absmag', 'spect', 'ci', 'x', 'y', 'z', 'con', 'lum']), 1, inplace = True)"
   ]
  },
  {
   "cell_type": "code",
   "execution_count": 4,
   "metadata": {},
   "outputs": [],
   "source": [
    "dict = {\n",
    "    'id':   'index',\n",
    "    'hr':   'idHarvard',\n",
    "    'gl':     'idGliese',\n",
    "    'bf':       'idYaleBright',\n",
    "    'proper': 'name',\n",
    "    'dist': 'distance',\n",
    "    'mag': 'magnitude',\n",
    "    'absmag':  'absoluteMagnitude',\n",
    "    'spect': 'spectralType',\n",
    "    'ci': 'colorIndex',\n",
    "    'x':   'xCoord',\n",
    "    'y':   'yCoord',\n",
    "    'z':   'zCoord',\n",
    "    'con': 'constellation',\n",
    "    'lum': 'luminosity'\n",
    "}\n",
    "\n",
    "hyg_df.columns = hyg_df.columns.to_series().map(dict)"
   ]
  },
  {
   "cell_type": "markdown",
   "metadata": {},
   "source": [
    "### Drop rows with NaN/Null on specific columns"
   ]
  },
  {
   "cell_type": "code",
   "execution_count": 5,
   "metadata": {},
   "outputs": [],
   "source": [
    "hyg_df = hyg_df.dropna(subset=['spectralType'])\n",
    "hyg_df = hyg_df.dropna(subset=['idHarvard', 'idGliese', 'idYaleBright', 'name'], how='all')"
   ]
  },
  {
   "cell_type": "code",
   "execution_count": 6,
   "metadata": {},
   "outputs": [
    {
     "name": "stdout",
     "output_type": "stream",
     "text": [
      "11980\n"
     ]
    }
   ],
   "source": [
    "print(len(hyg_df.index))"
   ]
  },
  {
   "cell_type": "markdown",
   "metadata": {},
   "source": [
    "### Merge different naming columns to one designation"
   ]
  },
  {
   "cell_type": "code",
   "execution_count": 7,
   "metadata": {},
   "outputs": [],
   "source": [
    "designation = []\n",
    "for index, row in hyg_df.iterrows():\n",
    "    if(pd.notnull(row['name'])):\n",
    "        designation.append(row['name'])\n",
    "    elif(pd.notnull(row['idYaleBright'])):\n",
    "        designation.append(row['idYaleBright'])\n",
    "    elif(pd.notnull(row['idGliese'])):\n",
    "        designation.append(row['idGliese'])\n",
    "    elif(pd.notnull(row['idHarvard'])):\n",
    "        designation.append(row['idHarvard'])"
   ]
  },
  {
   "cell_type": "code",
   "execution_count": 8,
   "metadata": {},
   "outputs": [],
   "source": [
    "del hyg_df['name']\n",
    "del hyg_df['idGliese']\n",
    "del hyg_df['idYaleBright']\n",
    "del hyg_df['idHarvard']\n",
    "hyg_df.insert (1, \"designation\", designation)"
   ]
  },
  {
   "cell_type": "markdown",
   "metadata": {},
   "source": [
    "### Save dataframe as csv"
   ]
  },
  {
   "cell_type": "code",
   "execution_count": 9,
   "metadata": {},
   "outputs": [],
   "source": [
    "hyg_df.to_csv(\"../data/hygdata_prepared.csv\")"
   ]
  }
 ],
 "metadata": {
  "kernelspec": {
   "display_name": "Python 3",
   "language": "python",
   "name": "python3"
  },
  "language_info": {
   "codemirror_mode": {
    "name": "ipython",
    "version": 3
   },
   "file_extension": ".py",
   "mimetype": "text/x-python",
   "name": "python",
   "nbconvert_exporter": "python",
   "pygments_lexer": "ipython3",
   "version": "3.7.4"
  }
 },
 "nbformat": 4,
 "nbformat_minor": 4
}
